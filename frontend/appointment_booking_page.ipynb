{
 "cells": [
  {
   "metadata": {},
   "cell_type": "markdown",
   "source": [
    "# Appointment Booking Page with Alpine.js and TailwindCSS\n",
    "\n",
    "This notebook demonstrates how to build a complete appointment booking interface with Alpine.js for reactivity and TailwindCSS for styling."
   ],
   "id": "a719d2022758f74d"
  },
  {
   "metadata": {},
   "cell_type": "markdown",
   "source": "## Cell 1: HTML Structure for the Appointment Booking Page",
   "id": "a4691f810a525edb"
  },
  {
   "metadata": {},
   "cell_type": "code",
   "outputs": [],
   "execution_count": null,
   "source": [
    "html_structure = \"\"\"\n",
    "<!DOCTYPE html>\n",
    "<html lang=\"en\">\n",
    "<head>\n",
    "    <meta charset=\"UTF-8\">\n",
    "    <meta name=\"viewport\" content=\"width=device-width, initial-scale=1.0\">\n",
    "    <title>Appointment Booking</title>\n",
    "    <!-- TailwindCSS CDN -->\n",
    "    <script src=\"https://cdn.tailwindcss.com\"></script>\n",
    "    <!-- Alpine.js CDN -->\n",
    "    <script defer src=\"https://unpkg.com/alpinejs@3.x.x/dist"
   ],
   "id": "cf46529220efe691"
  },
  {
   "metadata": {},
   "cell_type": "code",
   "outputs": [],
   "execution_count": null,
   "source": [
    "\n",
    "/alpine.js\"></script>\n",
    "</head>\n",
    "<body class=\"bg-gray-100 font-sans antialiased\">\n",
    "    <div class=\"max-w-4xl mx-auto p-6\">\n",
    "        <h1 class=\"text-3xl font-bold mb-4\">Book an Appointment</h1>\n",
    "        <form x-data=\"{ name: '', email: '', date: '', success: false }\" @submit.prevent=\"success = true\">\n",
    "            <div class=\"mb-4\">\n",
    "                <label for=\"name\" class=\"block text-sm font-medium text-gray-700\">Name</label>\n",
    "                <input type=\"text\" id=\"name\" x-model=\"name\" class=\"mt-1 block w-full border-gray-300 rounded-md shadow-sm focus:ring-green-500 focus:border-green-500\">\n",
    "            </div>\n",
    "            <div class=\"mb-4\">\n",
    "                <label for=\"email\" class=\"block text-sm font-medium text-gray-700\">Email</label>\n",
    "                <input type=\"email\" id=\"email\" x-model=\"email\" class=\"mt-1 block w-full border-gray-300 rounded-md shadow-sm focus:ring-green-500 focus:border-green-500\">\n",
    "            </div>\n",
    "            <div class=\"mb-4\">\n",
    "                <label for=\"date\" class=\"block text-sm font-medium text-gray-700\">Preferred Date</label>\n",
    "                <input type=\"date\" id=\"date\" x-model=\"date\" class=\"mt-1 block w-full border-gray-300 rounded-md shadow-sm focus:ring-green-500 focus:border-green-500\">\n",
    "            </div>\n",
    "            <button type=\"submit\" class=\"bg-green-500 text-white py-2 px-4 rounded-md hover:bg-green-600\">\n",
    "                Book Appointment\n",
    "            </button>\n",
    "            <div x-show=\"success\" class=\"mt-4 text-green-600\">\n",
    "                Appointment booked successfully for <span x-text=\"date\"></span>! We will contact you at <span x-text=\"email\"></span>.\n",
    "            </div>\n",
    "        </form>\n",
    "    </div>\n",
    "</body>\n",
    "</html>\n",
    "\"\"\"\n",
    "\"\"\"\n"
   ],
   "id": "b634467845e7c6a6"
  }
 ],
 "metadata": {
  "kernelspec": {
   "display_name": "Python 3",
   "language": "python",
   "name": "python3"
  },
  "language_info": {
   "codemirror_mode": {
    "name": "ipython",
    "version": 2
   },
   "file_extension": ".py",
   "mimetype": "text/x-python",
   "name": "python",
   "nbconvert_exporter": "python",
   "pygments_lexer": "ipython2",
   "version": "2.7.6"
  }
 },
 "nbformat": 4,
 "nbformat_minor": 5
}
